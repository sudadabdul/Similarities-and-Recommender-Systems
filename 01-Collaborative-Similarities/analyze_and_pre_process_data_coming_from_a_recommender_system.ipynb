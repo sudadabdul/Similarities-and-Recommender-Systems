{
 "cells": [
  {
   "cell_type": "markdown",
   "metadata": {},
   "source": [
    "# **Analyze and Pre-Process Data Coming from a Recommender System**\n",
    "\n",
    "---"
   ]
  },
  {
   "cell_type": "code",
   "execution_count": 1,
   "metadata": {},
   "outputs": [],
   "source": [
    "import os\n",
    "import zipfile\n",
    "from pathlib import Path\n",
    "\n",
    "import matplotlib.pyplot as plt\n",
    "import pandas as pd\n",
    "import requests\n",
    "import seaborn as sns\n"
   ]
  },
  {
   "cell_type": "markdown",
   "metadata": {},
   "source": [
    "## **Dataset Download**"
   ]
  },
  {
   "cell_type": "code",
   "execution_count": 2,
   "metadata": {},
   "outputs": [
    {
     "name": "stdout",
     "output_type": "stream",
     "text": [
      "Data directory already exists, skipping creating the directory.\n"
     ]
    }
   ],
   "source": [
    "if os.path.exists(\"data\"):\n",
    "    print(\"Data directory already exists, skipping creating the directory.\")\n",
    "else:\n",
    "    os.makedirs(\"data\", exist_ok=True)\n",
    "    print(\"Downloading data...\")"
   ]
  },
  {
   "cell_type": "code",
   "execution_count": 3,
   "metadata": {},
   "outputs": [],
   "source": [
    "DATA_DIR = Path(\"data\")"
   ]
  },
  {
   "cell_type": "code",
   "execution_count": 4,
   "metadata": {},
   "outputs": [],
   "source": [
    "DATASETS_NAME = \"hetrec2011-movielens-2k-v2\"\n",
    "DATASETS_URL = \"https://files.grouplens.org/datasets/hetrec2011/{name}.zip\"\n"
   ]
  },
  {
   "cell_type": "code",
   "execution_count": 5,
   "metadata": {},
   "outputs": [],
   "source": [
    "def download_dataset(url: str, filename: str):\n",
    "    \"\"\"Download a dataset from a URL and save it to the data directory.\n",
    "\n",
    "    Args:\n",
    "        url (str): The URL to download the dataset from.\n",
    "        filename (str): The filename to save the dataset as.\n",
    "\n",
    "    Returns:\n",
    "        str: The filename the dataset was saved as.\n",
    "    \"\"\"\n",
    "    response = requests.get(url)\n",
    "    response.raise_for_status()\n",
    "    with open(DATA_DIR / filename, \"wb\") as file:\n",
    "        file.write(response.content)\n",
    "    print(f\"Downloaded {filename} from {url}.\")\n",
    "    return filename"
   ]
  },
  {
   "cell_type": "code",
   "execution_count": 6,
   "metadata": {},
   "outputs": [
    {
     "name": "stdout",
     "output_type": "stream",
     "text": [
      "Dataset hetrec2011-movielens-2k-v2 already exists, skipping download.\n"
     ]
    }
   ],
   "source": [
    "if not (DATA_DIR / f\"{DATASETS_NAME}.zip\").exists():\n",
    "    download_dataset(URLS.format(name=DATASETS_NAME), f\"{DATASETS_NAME}.zip\")\n",
    "else:\n",
    "    print(f\"Dataset {DATASETS_NAME} already exists, skipping download.\")"
   ]
  },
  {
   "cell_type": "code",
   "execution_count": 7,
   "metadata": {},
   "outputs": [],
   "source": [
    "def unzip_file(file_path: Path):\n",
    "    \"\"\"Unzip a file to the data directory.\n",
    "\n",
    "    Args:\n",
    "        file_path (Path): The path to the file to unzip.\n",
    "\n",
    "    Returns:\n",
    "        str: The path to the unzipped directory.\n",
    "    \"\"\"\n",
    "    with zipfile.ZipFile(file_path, \"r\") as zip_ref:\n",
    "        zip_ref.extractall(DATA_DIR / file_path.stem)\n",
    "    print(f\"Unzipped {file_path}.\")\n",
    "    return file_path.stem"
   ]
  },
  {
   "cell_type": "code",
   "execution_count": 8,
   "metadata": {},
   "outputs": [
    {
     "name": "stdout",
     "output_type": "stream",
     "text": [
      "Dataset hetrec2011-movielens-2k-v2 already unzipped, skipping unzip.\n"
     ]
    }
   ],
   "source": [
    "if not (DATA_DIR / DATASETS_NAME).exists():\n",
    "    unzip_file(DATA_DIR / f\"{DATASETS_NAME}.zip\")\n",
    "else:\n",
    "    print(f\"Dataset {DATASETS_NAME} already unzipped, skipping unzip.\")"
   ]
  },
  {
   "cell_type": "markdown",
   "metadata": {},
   "source": [
    "## **Dataset Explanation**"
   ]
  },
  {
   "cell_type": "code",
   "execution_count": 9,
   "metadata": {},
   "outputs": [
    {
     "data": {
      "text/html": [
       "<div>\n",
       "<style scoped>\n",
       "    .dataframe tbody tr th:only-of-type {\n",
       "        vertical-align: middle;\n",
       "    }\n",
       "\n",
       "    .dataframe tbody tr th {\n",
       "        vertical-align: top;\n",
       "    }\n",
       "\n",
       "    .dataframe thead th {\n",
       "        text-align: right;\n",
       "    }\n",
       "</style>\n",
       "<table border=\"1\" class=\"dataframe\">\n",
       "  <thead>\n",
       "    <tr style=\"text-align: right;\">\n",
       "      <th></th>\n",
       "      <th>userID</th>\n",
       "      <th>movieID</th>\n",
       "      <th>rating</th>\n",
       "      <th>timestamp</th>\n",
       "    </tr>\n",
       "  </thead>\n",
       "  <tbody>\n",
       "    <tr>\n",
       "      <th>0</th>\n",
       "      <td>75</td>\n",
       "      <td>3</td>\n",
       "      <td>1.0</td>\n",
       "      <td>1162160236000</td>\n",
       "    </tr>\n",
       "    <tr>\n",
       "      <th>1</th>\n",
       "      <td>75</td>\n",
       "      <td>32</td>\n",
       "      <td>4.5</td>\n",
       "      <td>1162160624000</td>\n",
       "    </tr>\n",
       "    <tr>\n",
       "      <th>2</th>\n",
       "      <td>75</td>\n",
       "      <td>110</td>\n",
       "      <td>4.0</td>\n",
       "      <td>1162161008000</td>\n",
       "    </tr>\n",
       "    <tr>\n",
       "      <th>3</th>\n",
       "      <td>75</td>\n",
       "      <td>160</td>\n",
       "      <td>2.0</td>\n",
       "      <td>1162160212000</td>\n",
       "    </tr>\n",
       "    <tr>\n",
       "      <th>4</th>\n",
       "      <td>75</td>\n",
       "      <td>163</td>\n",
       "      <td>4.0</td>\n",
       "      <td>1162160970000</td>\n",
       "    </tr>\n",
       "  </tbody>\n",
       "</table>\n",
       "</div>"
      ],
      "text/plain": [
       "   userID  movieID  rating      timestamp\n",
       "0      75        3     1.0  1162160236000\n",
       "1      75       32     4.5  1162160624000\n",
       "2      75      110     4.0  1162161008000\n",
       "3      75      160     2.0  1162160212000\n",
       "4      75      163     4.0  1162160970000"
      ]
     },
     "execution_count": 9,
     "metadata": {},
     "output_type": "execute_result"
    }
   ],
   "source": [
    "user_rated_movies = pd.read_csv(\n",
    "    DATA_DIR / DATASETS_NAME / \"user_ratedmovies-timestamps.dat\", sep=\"\\t\", encoding=\"utf-8\"\n",
    ")\n",
    "user_rated_movies.head(n=5)"
   ]
  },
  {
   "cell_type": "code",
   "execution_count": 10,
   "metadata": {},
   "outputs": [
    {
     "data": {
      "text/html": [
       "<div>\n",
       "<style scoped>\n",
       "    .dataframe tbody tr th:only-of-type {\n",
       "        vertical-align: middle;\n",
       "    }\n",
       "\n",
       "    .dataframe tbody tr th {\n",
       "        vertical-align: top;\n",
       "    }\n",
       "\n",
       "    .dataframe thead th {\n",
       "        text-align: right;\n",
       "    }\n",
       "</style>\n",
       "<table border=\"1\" class=\"dataframe\">\n",
       "  <thead>\n",
       "    <tr style=\"text-align: right;\">\n",
       "      <th></th>\n",
       "      <th>userID</th>\n",
       "      <th>movieID</th>\n",
       "      <th>rating</th>\n",
       "      <th>timestamp</th>\n",
       "    </tr>\n",
       "  </thead>\n",
       "  <tbody>\n",
       "    <tr>\n",
       "      <th>count</th>\n",
       "      <td>855598.00</td>\n",
       "      <td>855598.00</td>\n",
       "      <td>855598.00</td>\n",
       "      <td>8.555980e+05</td>\n",
       "    </tr>\n",
       "    <tr>\n",
       "      <th>mean</th>\n",
       "      <td>35190.83</td>\n",
       "      <td>8710.18</td>\n",
       "      <td>3.44</td>\n",
       "      <td>1.130530e+12</td>\n",
       "    </tr>\n",
       "    <tr>\n",
       "      <th>std</th>\n",
       "      <td>20385.00</td>\n",
       "      <td>14446.85</td>\n",
       "      <td>1.00</td>\n",
       "      <td>7.178767e+10</td>\n",
       "    </tr>\n",
       "    <tr>\n",
       "      <th>min</th>\n",
       "      <td>75.00</td>\n",
       "      <td>1.00</td>\n",
       "      <td>0.50</td>\n",
       "      <td>8.745324e+11</td>\n",
       "    </tr>\n",
       "    <tr>\n",
       "      <th>25%</th>\n",
       "      <td>18161.00</td>\n",
       "      <td>1367.00</td>\n",
       "      <td>3.00</td>\n",
       "      <td>1.092553e+12</td>\n",
       "    </tr>\n",
       "    <tr>\n",
       "      <th>50%</th>\n",
       "      <td>33866.00</td>\n",
       "      <td>3249.00</td>\n",
       "      <td>3.50</td>\n",
       "      <td>1.144843e+12</td>\n",
       "    </tr>\n",
       "    <tr>\n",
       "      <th>75%</th>\n",
       "      <td>52004.00</td>\n",
       "      <td>6534.00</td>\n",
       "      <td>4.00</td>\n",
       "      <td>1.184265e+12</td>\n",
       "    </tr>\n",
       "    <tr>\n",
       "      <th>max</th>\n",
       "      <td>71534.00</td>\n",
       "      <td>65133.00</td>\n",
       "      <td>5.00</td>\n",
       "      <td>1.231130e+12</td>\n",
       "    </tr>\n",
       "  </tbody>\n",
       "</table>\n",
       "</div>"
      ],
      "text/plain": [
       "          userID    movieID     rating     timestamp\n",
       "count  855598.00  855598.00  855598.00  8.555980e+05\n",
       "mean    35190.83    8710.18       3.44  1.130530e+12\n",
       "std     20385.00   14446.85       1.00  7.178767e+10\n",
       "min        75.00       1.00       0.50  8.745324e+11\n",
       "25%     18161.00    1367.00       3.00  1.092553e+12\n",
       "50%     33866.00    3249.00       3.50  1.144843e+12\n",
       "75%     52004.00    6534.00       4.00  1.184265e+12\n",
       "max     71534.00   65133.00       5.00  1.231130e+12"
      ]
     },
     "execution_count": 10,
     "metadata": {},
     "output_type": "execute_result"
    }
   ],
   "source": [
    "user_rated_movies.describe().round(2)"
   ]
  },
  {
   "cell_type": "code",
   "execution_count": 11,
   "metadata": {},
   "outputs": [
    {
     "name": "stdout",
     "output_type": "stream",
     "text": [
      "Rating column statistics:\n"
     ]
    },
    {
     "data": {
      "text/plain": [
       "count    855598.00\n",
       "mean          3.44\n",
       "std           1.00\n",
       "min           0.50\n",
       "25%           3.00\n",
       "50%           3.50\n",
       "75%           4.00\n",
       "max           5.00\n",
       "Name: rating, dtype: float64"
      ]
     },
     "execution_count": 11,
     "metadata": {},
     "output_type": "execute_result"
    }
   ],
   "source": [
    "print(\"Rating column statistics:\")\n",
    "user_rated_movies.describe().round(2)[\"rating\"]"
   ]
  },
  {
   "cell_type": "code",
   "execution_count": 12,
   "metadata": {},
   "outputs": [
    {
     "name": "stdout",
     "output_type": "stream",
     "text": [
      "Top 5 most rated movies:\n"
     ]
    },
    {
     "data": {
      "text/plain": [
       "movieID\n",
       "2571    1670\n",
       "4993    1576\n",
       "356     1568\n",
       "296     1537\n",
       "5952    1528\n",
       "Name: count, dtype: int64"
      ]
     },
     "execution_count": 12,
     "metadata": {},
     "output_type": "execute_result"
    }
   ],
   "source": [
    "print(\"Top 5 most rated movies:\")\n",
    "user_rated_movies[\"movieID\"].value_counts().nlargest(n=5)"
   ]
  },
  {
   "cell_type": "code",
   "execution_count": 13,
   "metadata": {},
   "outputs": [
    {
     "data": {
      "image/png": "[encoded data removed]",
      "text/plain": [
       "<Figure size 640x480 with 1 Axes>"
      ]
     },
     "metadata": {},
     "output_type": "display_data"
    }
   ],
   "source": [
    "user_rated_movies.rating.hist(bins=5)\n",
    "plt.title(\"Distribution of Ratings\")\n",
    "plt.xlabel(\"Rating\")\n",
    "plt.ylabel(\"Number of Ratings\")\n",
    "plt.show()"
   ]
  },
  {
   "cell_type": "code",
   "execution_count": 14,
   "metadata": {},
   "outputs": [
    {
     "name": "stdout",
     "output_type": "stream",
     "text": [
      "Number of ratings: 855598\n",
      "Number of unique users: 2113\n",
      "Number of unique movies: 10109\n"
     ]
    }
   ],
   "source": [
    "number_of_ratings = user_rated_movies.rating.count()\n",
    "total_number_of_users = user_rated_movies.userID.nunique()\n",
    "total_number_of_movies = user_rated_movies.movieID.nunique()\n",
    "\n",
    "print(f\"Number of ratings: {number_of_ratings}\")\n",
    "print(f\"Number of unique users: {total_number_of_users}\")\n",
    "print(f\"Number of unique movies: {total_number_of_movies}\")\n"
   ]
  },
  {
   "cell_type": "code",
   "execution_count": 15,
   "metadata": {},
   "outputs": [
    {
     "name": "stdout",
     "output_type": "stream",
     "text": [
      "If each user rated each movie once, there would be 21360317 ratings.\n"
     ]
    }
   ],
   "source": [
    "print(f\"If each user rated each movie once, there would be {total_number_of_users * total_number_of_movies} ratings.\")"
   ]
  },
  {
   "cell_type": "code",
   "execution_count": 16,
   "metadata": {},
   "outputs": [
    {
     "name": "stdout",
     "output_type": "stream",
     "text": [
      "Density of the ratings: 4.01%\n",
      "Sparsity of the ratings: 95.99%\n"
     ]
    }
   ],
   "source": [
    "density = number_of_ratings / (total_number_of_users * total_number_of_movies)\n",
    "print(f\"Density of the ratings: {density:.2%}\")\n",
    "sparsity = 1 - density\n",
    "print(f\"Sparsity of the ratings: {sparsity:.2%}\")"
   ]
  },
  {
   "cell_type": "code",
   "execution_count": 17,
   "metadata": {},
   "outputs": [
    {
     "data": {
      "image/png": "[encoded data removed]",
      "text/plain": [
       "<Figure size 640x480 with 1 Axes>"
      ]
     },
     "metadata": {},
     "output_type": "display_data"
    }
   ],
   "source": [
    "sns.set_style(\"whitegrid\")\n",
    "plt.title(\"Distribution of Interactions Frequency\")\n",
    "interaction_frequency = user_rated_movies.userID.value_counts()\n",
    "sorted_interaction_frequency = interaction_frequency.sort_values(ascending=False)\n",
    "sns.kdeplot(sorted_interaction_frequency, fill=True, label=\"Interactions\")\n",
    "plt.show()"
   ]
  },
  {
   "cell_type": "code",
   "execution_count": null,
   "metadata": {},
   "outputs": [],
   "source": []
  }
 ],
 "metadata": {
  "kernelspec": {
   "display_name": "Python 3",
   "language": "python",
   "name": "python3"
  },
  "language_info": {
   "codemirror_mode": {
    "name": "ipython",
    "version": 3
   },
   "file_extension": ".py",
   "mimetype": "text/x-python",
   "name": "python",
   "nbconvert_exporter": "python",
   "pygments_lexer": "ipython3",
   "version": "3.13.0"
  }
 },
 "nbformat": 4,
 "nbformat_minor": 2
}
